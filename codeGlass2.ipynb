{
 "cells": [
  {
   "cell_type": "code",
   "execution_count": 37,
   "metadata": {},
   "outputs": [],
   "source": [
    "import json\n",
    "import requests\n",
    "import numpy as np # linear algebra\n",
    "import pandas as pd # data processing, CSV file I/O (e.g. pd.read_csv)\n",
    "from keras.models import Sequential\n",
    "from keras.layers import Activation, Dense, Dropout, LSTM\n",
    "from sklearn.preprocessing import MinMaxScaler\n",
    "import matplotlib.pyplot as plt"
   ]
  },
  {
   "cell_type": "code",
   "execution_count": 42,
   "metadata": {},
   "outputs": [],
   "source": [
    "ep = 'https://min-api.cryptocompare.com/data/histohour'\n",
    "rs = requests.get(ep + '?fsym=EOS&tsym=USD&limit=2000')\n",
    "cl = pd.DataFrame(json.loads(rs.content)['Data'])"
   ]
  },
  {
   "cell_type": "code",
   "execution_count": 43,
   "metadata": {
    "scrolled": true
   },
   "outputs": [
    {
     "data": {
      "text/html": [
       "<div>\n",
       "<style scoped>\n",
       "    .dataframe tbody tr th:only-of-type {\n",
       "        vertical-align: middle;\n",
       "    }\n",
       "\n",
       "    .dataframe tbody tr th {\n",
       "        vertical-align: top;\n",
       "    }\n",
       "\n",
       "    .dataframe thead th {\n",
       "        text-align: right;\n",
       "    }\n",
       "</style>\n",
       "<table border=\"1\" class=\"dataframe\">\n",
       "  <thead>\n",
       "    <tr style=\"text-align: right;\">\n",
       "      <th></th>\n",
       "      <th>close</th>\n",
       "      <th>high</th>\n",
       "      <th>low</th>\n",
       "      <th>open</th>\n",
       "      <th>time</th>\n",
       "      <th>volumefrom</th>\n",
       "      <th>volumeto</th>\n",
       "    </tr>\n",
       "  </thead>\n",
       "  <tbody>\n",
       "    <tr>\n",
       "      <th>0</th>\n",
       "      <td>7.08</td>\n",
       "      <td>7.17</td>\n",
       "      <td>7.07</td>\n",
       "      <td>7.16</td>\n",
       "      <td>1531486800</td>\n",
       "      <td>225881.53</td>\n",
       "      <td>1609509.16</td>\n",
       "    </tr>\n",
       "    <tr>\n",
       "      <th>1</th>\n",
       "      <td>7.08</td>\n",
       "      <td>7.09</td>\n",
       "      <td>7.05</td>\n",
       "      <td>7.08</td>\n",
       "      <td>1531490400</td>\n",
       "      <td>105117.91</td>\n",
       "      <td>744959.28</td>\n",
       "    </tr>\n",
       "    <tr>\n",
       "      <th>2</th>\n",
       "      <td>7.09</td>\n",
       "      <td>7.09</td>\n",
       "      <td>7.03</td>\n",
       "      <td>7.08</td>\n",
       "      <td>1531494000</td>\n",
       "      <td>87699.98</td>\n",
       "      <td>620555.82</td>\n",
       "    </tr>\n",
       "    <tr>\n",
       "      <th>3</th>\n",
       "      <td>7.06</td>\n",
       "      <td>7.09</td>\n",
       "      <td>7.04</td>\n",
       "      <td>7.09</td>\n",
       "      <td>1531497600</td>\n",
       "      <td>165157.71</td>\n",
       "      <td>1167312.64</td>\n",
       "    </tr>\n",
       "    <tr>\n",
       "      <th>4</th>\n",
       "      <td>7.10</td>\n",
       "      <td>7.11</td>\n",
       "      <td>7.06</td>\n",
       "      <td>7.06</td>\n",
       "      <td>1531501200</td>\n",
       "      <td>196294.54</td>\n",
       "      <td>1391642.72</td>\n",
       "    </tr>\n",
       "  </tbody>\n",
       "</table>\n",
       "</div>"
      ],
      "text/plain": [
       "   close  high   low  open        time  volumefrom    volumeto\n",
       "0   7.08  7.17  7.07  7.16  1531486800   225881.53  1609509.16\n",
       "1   7.08  7.09  7.05  7.08  1531490400   105117.91   744959.28\n",
       "2   7.09  7.09  7.03  7.08  1531494000    87699.98   620555.82\n",
       "3   7.06  7.09  7.04  7.09  1531497600   165157.71  1167312.64\n",
       "4   7.10  7.11  7.06  7.06  1531501200   196294.54  1391642.72"
      ]
     },
     "execution_count": 43,
     "metadata": {},
     "output_type": "execute_result"
    }
   ],
   "source": [
    "cl.head()"
   ]
  },
  {
   "cell_type": "code",
   "execution_count": 45,
   "metadata": {},
   "outputs": [
    {
     "data": {
      "image/png": "[encoded data removed]",
      "text/plain": [
       "<Figure size 432x288 with 1 Axes>"
      ]
     },
     "metadata": {},
     "output_type": "display_data"
    }
   ],
   "source": [
    "eos = cl.close.values.astype('float32')\n",
    "eos = eos.reshape(2001,1)\n",
    "eos.shape\n",
    "plt.plot(eos)\n",
    "plt.show()"
   ]
  },
  {
   "cell_type": "code",
   "execution_count": 47,
   "metadata": {},
   "outputs": [
    {
     "name": "stderr",
     "output_type": "stream",
     "text": [
      "/anaconda3/lib/python3.6/site-packages/ipykernel_launcher.py:2: FutureWarning: Method .as_matrix will be removed in a future version. Use .values instead.\n",
      "  \n"
     ]
    },
    {
     "data": {
      "text/plain": [
       "array([[5.79381443e-01, 5.66600398e-01, 5.93429158e-01, ...,\n",
       "        0.00000000e+00, 3.73634780e-02, 4.49809945e-02],\n",
       "       [5.79381443e-01, 5.50695825e-01, 5.89322382e-01, ...,\n",
       "        5.00000000e-04, 1.67369653e-02, 2.01978063e-02],\n",
       "       [5.81443299e-01, 5.50695825e-01, 5.85215606e-01, ...,\n",
       "        1.00000000e-03, 1.37619704e-02, 1.66316566e-02],\n",
       "       ...,\n",
       "       [3.21649485e-01, 3.06163022e-01, 3.30595483e-01, ...,\n",
       "        9.99000000e-01, 1.09279625e-01, 1.06991695e-01],\n",
       "       [3.13402062e-01, 3.02186879e-01, 3.26488706e-01, ...,\n",
       "        9.99500000e-01, 2.41794237e-02, 2.35714762e-02],\n",
       "       [2.96907216e-01, 2.92246521e-01, 3.01848049e-01, ...,\n",
       "        1.00000000e+00, 1.08425792e-01, 1.03683687e-01]])"
      ]
     },
     "execution_count": 47,
     "metadata": {},
     "output_type": "execute_result"
    }
   ],
   "source": [
    "scl = MinMaxScaler()\n",
    "cl = cl.as_matrix()\n",
    "cl = cl.reshape(cl.shape[0],7)\n",
    "cl = scl.fit_transform(cl)\n",
    "cl"
   ]
  },
  {
   "cell_type": "code",
   "execution_count": 48,
   "metadata": {},
   "outputs": [
    {
     "name": "stdout",
     "output_type": "stream",
     "text": [
      "1594\n",
      "399\n",
      "1594\n",
      "399\n"
     ]
    }
   ],
   "source": [
    "def processData(data,lb):\n",
    "    X,Y = [],[]\n",
    "    for i in range(len(data)-lb-1):\n",
    "        X.append(data[i:(i+lb),0])\n",
    "        Y.append(data[(i+lb),0])\n",
    "    return np.array(X),np.array(Y)\n",
    "X,y = processData(cl,7)\n",
    "X_train,X_test = X[:int(X.shape[0]*0.80)],X[int(X.shape[0]*0.80):]\n",
    "y_train,y_test = y[:int(y.shape[0]*0.80)],y[int(y.shape[0]*0.80):]\n",
    "print(X_train.shape[0])\n",
    "print(X_test.shape[0])\n",
    "print(y_train.shape[0])\n",
    "print(y_test.shape[0])"
   ]
  },
  {
   "cell_type": "code",
   "execution_count": 55,
   "metadata": {},
   "outputs": [
    {
     "name": "stdout",
     "output_type": "stream",
     "text": [
      "Train on 1594 samples, validate on 399 samples\n",
      "Epoch 1/88\n",
      "1594/1594 [==============================] - 2s 1ms/step - loss: 0.0823 - val_loss: 5.3543e-04\n",
      "Epoch 2/88\n",
      "1594/1594 [==============================] - 0s 222us/step - loss: 0.0076 - val_loss: 7.5367e-04\n",
      "Epoch 3/88\n",
      "1594/1594 [==============================] - 0s 216us/step - loss: 0.0038 - val_loss: 4.8951e-04\n",
      "Epoch 4/88\n",
      "1594/1594 [==============================] - 0s 214us/step - loss: 0.0032 - val_loss: 3.8565e-04\n",
      "Epoch 5/88\n",
      "1594/1594 [==============================] - 0s 209us/step - loss: 0.0030 - val_loss: 3.7460e-04\n",
      "Epoch 6/88\n",
      "1594/1594 [==============================] - 0s 217us/step - loss: 0.0027 - val_loss: 3.7122e-04\n",
      "Epoch 7/88\n",
      "1594/1594 [==============================] - 0s 216us/step - loss: 0.0027 - val_loss: 4.1490e-04\n",
      "Epoch 8/88\n",
      "1594/1594 [==============================] - 0s 214us/step - loss: 0.0028 - val_loss: 4.3628e-04\n",
      "Epoch 9/88\n",
      "1594/1594 [==============================] - 0s 228us/step - loss: 0.0027 - val_loss: 4.8232e-04\n",
      "Epoch 10/88\n",
      "1594/1594 [==============================] - 0s 217us/step - loss: 0.0024 - val_loss: 4.0565e-04\n",
      "Epoch 11/88\n",
      "1594/1594 [==============================] - 0s 235us/step - loss: 0.0022 - val_loss: 3.8278e-04\n",
      "Epoch 12/88\n",
      "1594/1594 [==============================] - 0s 223us/step - loss: 0.0021 - val_loss: 4.4607e-04\n",
      "Epoch 13/88\n",
      "1594/1594 [==============================] - 0s 217us/step - loss: 0.0023 - val_loss: 3.5773e-04\n",
      "Epoch 14/88\n",
      "1594/1594 [==============================] - 0s 208us/step - loss: 0.0022 - val_loss: 3.3427e-04\n",
      "Epoch 15/88\n",
      "1594/1594 [==============================] - 0s 224us/step - loss: 0.0021 - val_loss: 3.4057e-04\n",
      "Epoch 16/88\n",
      "1594/1594 [==============================] - 0s 214us/step - loss: 0.0020 - val_loss: 3.8881e-04\n",
      "Epoch 17/88\n",
      "1594/1594 [==============================] - 0s 215us/step - loss: 0.0020 - val_loss: 3.8160e-04\n",
      "Epoch 18/88\n",
      "1594/1594 [==============================] - 0s 238us/step - loss: 0.0019 - val_loss: 3.8031e-04\n",
      "Epoch 19/88\n",
      "1594/1594 [==============================] - 0s 211us/step - loss: 0.0020 - val_loss: 3.5216e-04\n",
      "Epoch 20/88\n",
      "1594/1594 [==============================] - 0s 215us/step - loss: 0.0018 - val_loss: 4.4436e-04\n",
      "Epoch 21/88\n",
      "1594/1594 [==============================] - 0s 245us/step - loss: 0.0020 - val_loss: 3.4729e-04\n",
      "Epoch 22/88\n",
      "1594/1594 [==============================] - 0s 215us/step - loss: 0.0019 - val_loss: 4.2935e-04\n",
      "Epoch 23/88\n",
      "1594/1594 [==============================] - 0s 221us/step - loss: 0.0019 - val_loss: 3.4476e-04\n",
      "Epoch 24/88\n",
      "1594/1594 [==============================] - 0s 252us/step - loss: 0.0019 - val_loss: 4.3462e-04\n",
      "Epoch 25/88\n",
      "1594/1594 [==============================] - 0s 240us/step - loss: 0.0020 - val_loss: 3.2789e-04\n",
      "Epoch 26/88\n",
      "1594/1594 [==============================] - 0s 237us/step - loss: 0.0017 - val_loss: 4.0781e-04\n",
      "Epoch 27/88\n",
      "1594/1594 [==============================] - 0s 212us/step - loss: 0.0018 - val_loss: 3.4477e-04\n",
      "Epoch 28/88\n",
      "1594/1594 [==============================] - 0s 224us/step - loss: 0.0020 - val_loss: 3.3433e-04\n",
      "Epoch 29/88\n",
      "1594/1594 [==============================] - 0s 230us/step - loss: 0.0016 - val_loss: 4.3708e-04\n",
      "Epoch 30/88\n",
      "1594/1594 [==============================] - 0s 201us/step - loss: 0.0018 - val_loss: 3.2390e-04\n",
      "Epoch 31/88\n",
      "1594/1594 [==============================] - 0s 201us/step - loss: 0.0015 - val_loss: 4.7764e-04\n",
      "Epoch 32/88\n",
      "1594/1594 [==============================] - 0s 215us/step - loss: 0.0019 - val_loss: 3.1032e-04\n",
      "Epoch 33/88\n",
      "1594/1594 [==============================] - 0s 216us/step - loss: 0.0017 - val_loss: 3.8717e-04\n",
      "Epoch 34/88\n",
      "1594/1594 [==============================] - 0s 243us/step - loss: 0.0018 - val_loss: 3.0807e-04\n",
      "Epoch 35/88\n",
      "1594/1594 [==============================] - 0s 220us/step - loss: 0.0019 - val_loss: 3.2280e-04\n",
      "Epoch 36/88\n",
      "1594/1594 [==============================] - 0s 214us/step - loss: 0.0017 - val_loss: 3.3010e-04\n",
      "Epoch 37/88\n",
      "1594/1594 [==============================] - 0s 214us/step - loss: 0.0018 - val_loss: 2.9892e-04\n",
      "Epoch 38/88\n",
      "1594/1594 [==============================] - 0s 221us/step - loss: 0.0016 - val_loss: 4.4152e-04\n",
      "Epoch 39/88\n",
      "1594/1594 [==============================] - 0s 213us/step - loss: 0.0018 - val_loss: 2.9043e-04\n",
      "Epoch 40/88\n",
      "1594/1594 [==============================] - 0s 220us/step - loss: 0.0015 - val_loss: 4.2642e-04\n",
      "Epoch 41/88\n",
      "1594/1594 [==============================] - 0s 230us/step - loss: 0.0017 - val_loss: 2.9572e-04\n",
      "Epoch 42/88\n",
      "1594/1594 [==============================] - 0s 236us/step - loss: 0.0015 - val_loss: 3.6042e-04\n",
      "Epoch 43/88\n",
      "1594/1594 [==============================] - 0s 227us/step - loss: 0.0016 - val_loss: 3.0315e-04\n",
      "Epoch 44/88\n",
      "1594/1594 [==============================] - 0s 233us/step - loss: 0.0015 - val_loss: 3.8779e-04\n",
      "Epoch 45/88\n",
      "1594/1594 [==============================] - 0s 231us/step - loss: 0.0016 - val_loss: 2.8055e-04\n",
      "Epoch 46/88\n",
      "1594/1594 [==============================] - 0s 231us/step - loss: 0.0015 - val_loss: 3.8715e-04\n",
      "Epoch 47/88\n",
      "1594/1594 [==============================] - 0s 226us/step - loss: 0.0015 - val_loss: 2.8706e-04\n",
      "Epoch 48/88\n",
      "1594/1594 [==============================] - 0s 226us/step - loss: 0.0015 - val_loss: 3.5151e-04\n",
      "Epoch 49/88\n",
      "1594/1594 [==============================] - 0s 215us/step - loss: 0.0016 - val_loss: 3.1453e-04\n",
      "Epoch 50/88\n",
      "1594/1594 [==============================] - 0s 210us/step - loss: 0.0015 - val_loss: 2.8306e-04\n",
      "Epoch 51/88\n",
      "1594/1594 [==============================] - 0s 218us/step - loss: 0.0013 - val_loss: 3.6638e-04\n",
      "Epoch 52/88\n",
      "1594/1594 [==============================] - 0s 213us/step - loss: 0.0018 - val_loss: 2.6572e-04\n",
      "Epoch 53/88\n",
      "1594/1594 [==============================] - 0s 216us/step - loss: 0.0015 - val_loss: 3.3810e-04\n",
      "Epoch 54/88\n",
      "1594/1594 [==============================] - 0s 234us/step - loss: 0.0018 - val_loss: 2.6407e-04\n",
      "Epoch 55/88\n",
      "1594/1594 [==============================] - 0s 257us/step - loss: 0.0015 - val_loss: 2.9971e-04\n",
      "Epoch 56/88\n",
      "1594/1594 [==============================] - 0s 242us/step - loss: 0.0015 - val_loss: 2.6916e-04\n",
      "Epoch 57/88\n",
      "1594/1594 [==============================] - 0s 259us/step - loss: 0.0014 - val_loss: 3.1456e-04\n",
      "Epoch 58/88\n",
      "1594/1594 [==============================] - 0s 265us/step - loss: 0.0016 - val_loss: 2.7757e-04\n",
      "Epoch 59/88\n",
      "1594/1594 [==============================] - 0s 250us/step - loss: 0.0013 - val_loss: 2.9974e-04\n",
      "Epoch 60/88\n",
      "1594/1594 [==============================] - 0s 253us/step - loss: 0.0013 - val_loss: 2.6837e-04\n",
      "Epoch 61/88\n",
      "1594/1594 [==============================] - 0s 234us/step - loss: 0.0015 - val_loss: 3.2995e-04\n",
      "Epoch 62/88\n",
      "1594/1594 [==============================] - 0s 244us/step - loss: 0.0014 - val_loss: 2.6207e-04\n",
      "Epoch 63/88\n",
      "1594/1594 [==============================] - 0s 215us/step - loss: 0.0012 - val_loss: 2.8926e-04\n",
      "Epoch 64/88\n",
      "1594/1594 [==============================] - 0s 222us/step - loss: 0.0014 - val_loss: 2.6915e-04\n",
      "Epoch 65/88\n",
      "1594/1594 [==============================] - 0s 217us/step - loss: 0.0013 - val_loss: 2.8243e-04\n",
      "Epoch 66/88\n",
      "1594/1594 [==============================] - 0s 226us/step - loss: 0.0014 - val_loss: 2.8243e-04\n",
      "Epoch 67/88\n",
      "1594/1594 [==============================] - 0s 228us/step - loss: 0.0013 - val_loss: 2.7104e-04\n",
      "Epoch 68/88\n",
      "1594/1594 [==============================] - 0s 258us/step - loss: 0.0013 - val_loss: 2.5667e-04\n",
      "Epoch 69/88\n",
      "1594/1594 [==============================] - 0s 226us/step - loss: 0.0012 - val_loss: 2.8826e-04\n",
      "Epoch 70/88\n",
      "1594/1594 [==============================] - 0s 217us/step - loss: 0.0014 - val_loss: 2.4668e-04\n",
      "Epoch 71/88\n",
      "1594/1594 [==============================] - 0s 219us/step - loss: 0.0013 - val_loss: 3.0597e-04\n",
      "Epoch 72/88\n",
      "1594/1594 [==============================] - 0s 216us/step - loss: 0.0015 - val_loss: 2.4885e-04\n",
      "Epoch 73/88\n",
      "1594/1594 [==============================] - 0s 214us/step - loss: 0.0013 - val_loss: 2.8010e-04\n",
      "Epoch 74/88\n",
      "1594/1594 [==============================] - 0s 232us/step - loss: 0.0013 - val_loss: 2.6739e-04\n",
      "Epoch 75/88\n",
      "1594/1594 [==============================] - 0s 226us/step - loss: 0.0012 - val_loss: 2.5742e-04\n"
     ]
    },
    {
     "name": "stdout",
     "output_type": "stream",
     "text": [
      "Epoch 76/88\n",
      "1594/1594 [==============================] - 0s 223us/step - loss: 0.0015 - val_loss: 2.9460e-04\n",
      "Epoch 77/88\n",
      "1594/1594 [==============================] - 0s 227us/step - loss: 0.0012 - val_loss: 2.4046e-04\n",
      "Epoch 78/88\n",
      "1594/1594 [==============================] - 0s 206us/step - loss: 0.0012 - val_loss: 2.8787e-04\n",
      "Epoch 79/88\n",
      "1594/1594 [==============================] - 0s 207us/step - loss: 0.0013 - val_loss: 2.4590e-04\n",
      "Epoch 80/88\n",
      "1594/1594 [==============================] - 0s 214us/step - loss: 0.0012 - val_loss: 2.4344e-04\n",
      "Epoch 81/88\n",
      "1594/1594 [==============================] - 0s 214us/step - loss: 0.0012 - val_loss: 2.4736e-04\n",
      "Epoch 82/88\n",
      "1594/1594 [==============================] - 0s 213us/step - loss: 0.0011 - val_loss: 2.4923e-04\n",
      "Epoch 83/88\n",
      "1594/1594 [==============================] - 0s 210us/step - loss: 0.0013 - val_loss: 2.8241e-04\n",
      "Epoch 84/88\n",
      "1594/1594 [==============================] - 0s 219us/step - loss: 0.0013 - val_loss: 2.3991e-04\n",
      "Epoch 85/88\n",
      "1594/1594 [==============================] - 0s 213us/step - loss: 0.0013 - val_loss: 2.3785e-04\n",
      "Epoch 86/88\n",
      "1594/1594 [==============================] - 0s 206us/step - loss: 0.0011 - val_loss: 2.4949e-04\n",
      "Epoch 87/88\n",
      "1594/1594 [==============================] - 0s 209us/step - loss: 0.0012 - val_loss: 2.3780e-04\n",
      "Epoch 88/88\n",
      "1594/1594 [==============================] - 0s 220us/step - loss: 0.0012 - val_loss: 2.3502e-04\n"
     ]
    }
   ],
   "source": [
    "model = Sequential()\n",
    "model.add(LSTM(50,input_shape=(7,1)))\n",
    "model.add(Dropout(0.2))\n",
    "model.add(Dense(1))\n",
    "model.add(Activation('linear'))\n",
    "model.compile(optimizer='adam',loss='mse')\n",
    "#Reshape data for (Sample,Timestep,Features) \n",
    "X_train = X_train.reshape((X_train.shape[0],X_train.shape[1],1))\n",
    "X_test = X_test.reshape((X_test.shape[0],X_test.shape[1],1))\n",
    "#Fit model with history to check for overfitting\n",
    "history = model.fit(X_train,y_train,epochs=88,validation_data=(X_test,y_test),shuffle=False)"
   ]
  },
  {
   "cell_type": "code",
   "execution_count": 56,
   "metadata": {},
   "outputs": [
    {
     "data": {
      "text/plain": [
       "[<matplotlib.lines.Line2D at 0x1a32994f60>]"
      ]
     },
     "execution_count": 56,
     "metadata": {},
     "output_type": "execute_result"
    },
    {
     "data": {
      "image/png": "[encoded data removed]",
      "text/plain": [
       "<Figure size 432x288 with 1 Axes>"
      ]
     },
     "metadata": {},
     "output_type": "display_data"
    }
   ],
   "source": [
    "plt.plot(history.history['loss'])\n",
    "plt.plot(history.history['val_loss'])"
   ]
  },
  {
   "cell_type": "code",
   "execution_count": null,
   "metadata": {},
   "outputs": [],
   "source": []
  },
  {
   "cell_type": "code",
   "execution_count": null,
   "metadata": {},
   "outputs": [],
   "source": []
  }
 ],
 "metadata": {
  "kernelspec": {
   "display_name": "Python 3",
   "language": "python",
   "name": "python3"
  },
  "language_info": {
   "codemirror_mode": {
    "name": "ipython",
    "version": 3
   },
   "file_extension": ".py",
   "mimetype": "text/x-python",
   "name": "python",
   "nbconvert_exporter": "python",
   "pygments_lexer": "ipython3",
   "version": "3.6.5"
  }
 },
 "nbformat": 4,
 "nbformat_minor": 2
}
